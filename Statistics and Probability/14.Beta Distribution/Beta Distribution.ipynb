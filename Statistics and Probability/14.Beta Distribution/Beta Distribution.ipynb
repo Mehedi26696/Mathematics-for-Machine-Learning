{
 "cells": [
  {
   "cell_type": "markdown",
   "id": "9bdff815-474b-4e30-a138-e5511bcacc9e",
   "metadata": {},
   "source": [
    "## Beta Distribution (Continuous)\n",
    "\n",
    "A continuous random variable X follows a beta distribution if it is used to model the behavior of random variables that are constrained to intervals of finite length, often [0,1]. The beta distribution is characterized by two shape parameters, $\\alpha$ and $\\beta$, and is denoted as $X \\sim \\text{Beta}(\\alpha, \\beta)$.\n",
    "\n",
    "### Probability Density Function (PDF)\n",
    "\n",
    "The PDF of a beta distribution is given by:\n",
    "\n",
    "$$f(x; \\alpha, \\beta) = \\frac{x^{\\alpha - 1}(1 - x)^{\\beta - 1}}{B(\\alpha, \\beta)}$$\n",
    "\n",
    "for $0 \\le x \\le 1$ and $\\alpha, \\beta > 0$, where $B(\\alpha, \\beta)$ is the beta function.\n",
    "\n",
    "<img src=\"b1.png\">\n",
    "\n",
    "### Cumulative Distribution Function (CDF)\n",
    "\n",
    "The CDF of a beta distribution, $F(x; \\alpha, \\beta)$, does not have a simple closed-form expression but is the integral of the PDF over its domain.\n",
    "\n",
    "<img src=\"b2.png\">\n",
    "\n",
    "### Expected Value and Variance\n",
    "\n",
    "The expected value (mean) of a beta distribution is:\n",
    "\n",
    "$$E[X] = \\frac{\\alpha}{\\alpha + \\beta}$$\n",
    "\n",
    "The variance of a beta distribution is:\n",
    "\n",
    "$$\\text{Var}(X) = \\frac{\\alpha \\beta}{(\\alpha + \\beta)^2(\\alpha + \\beta + 1)}$$\n",
    "\n",
    "### Example: Quality Control in Manufacturing\n",
    "\n",
    "In a manufacturing process, the proportion of defective items produced is assumed to follow a beta distribution with $\\alpha = 2$ and $\\beta = 5$.\n",
    "\n",
    "Given:\n",
    "\n",
    "- $\\alpha = 2$\n",
    "- $\\beta = 5$\n",
    "\n",
    "Using the beta distribution formulas:\n",
    "\n",
    "I. What is the expected proportion of defective items?\n",
    "\n",
    "Expected proportion of defective items:\n",
    "\n",
    "$$E[X] = \\frac{2}{2 + 5} \\approx 0.2857$$\n",
    "\n",
    "II. What is the variance of this proportion?\n",
    "\n",
    "Variance of the proportion:\n",
    "\n",
    "$$\\text{Var}(X) = \\frac{2 \\times 5}{(2 + 5)^2(2 + 5 + 1)} \\approx 0.0408$$\n",
    "\n",
    "### Applications\n",
    "\n",
    "Beta distributions are widely used in Bayesian statistics, project management for modeling the completion time of tasks, and in reliability engineering to model the failure rate of systems. It is also used in genetics and ecology to model variability in proportions and rates.\n"
   ]
  }
 ],
 "metadata": {
  "kernelspec": {
   "display_name": "Python 3 (ipykernel)",
   "language": "python",
   "name": "python3"
  },
  "language_info": {
   "codemirror_mode": {
    "name": "ipython",
    "version": 3
   },
   "file_extension": ".py",
   "mimetype": "text/x-python",
   "name": "python",
   "nbconvert_exporter": "python",
   "pygments_lexer": "ipython3",
   "version": "3.12.2"
  }
 },
 "nbformat": 4,
 "nbformat_minor": 5
}
