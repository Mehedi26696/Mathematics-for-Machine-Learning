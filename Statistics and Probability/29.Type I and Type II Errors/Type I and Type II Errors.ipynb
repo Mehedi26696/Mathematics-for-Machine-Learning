{
 "cells": [
  {
   "cell_type": "markdown",
   "id": "468716b2-c135-4205-90fb-1a3efddca4ae",
   "metadata": {},
   "source": [
    "## Errors in Hypothesis Testing\n",
    "\n",
    "When conducting hypothesis tests, we face two main types of errors: Type I and Type II errors. These errors are critical to understand for accurate interpretation of test results and informed decision-making.\n",
    "\n",
    "### Type I and Type II Errors\n",
    "\n",
    "|                     | Reject $H_0$ (Accept $H_a$) | Fail to Reject $H_0$ (Insufficient Evidence for $H_a$) |\n",
    "|---------------------|:---------------------:|:-----------------------------------------------:|\n",
    "| **$H_0$ is True**      | Type I Error          | Correct Decision                                |\n",
    "| **$H_0$ is False**     | Correct Decision      | Type II Error                                   |\n",
    "\n",
    "#### Example: Court Trial Hypotheses\n",
    "\n",
    "In the realm of hypothesis testing, real-world scenarios can often provide vivid illustrations of abstract concepts. One such scenario is a court trial, where the decision-making process mirrors the principles of statistical hypothesis testing. In this context, the determination of a suspect's guilt or innocence is akin to testing a hypothesis with the potential for two types of errors: Type I and Type II errors. \n",
    "\n",
    "- **Null Hypothesis ($H_0$):** The suspect is innocent.\n",
    "- **Alternative Hypothesis ($H_a$):** The suspect is guilty.\n",
    "\n",
    "**Type I Error:** Convicting an innocent person.\n",
    "**Type II Error:** Acquitting a guilty person.\n",
    "\n",
    "### Type I Error (False Positive)\n",
    "\n",
    "- **Symbol:** $\\alpha$ (alpha)\n",
    "- **Description:** Rejecting a true $H_0$, implying a false detection of an effect.\n",
    "- **Probability:** Corresponds to the test's significance level. For a 0.05 level, there's a 5% chance of a Type I error.\n",
    "- **Example:** In a drug trial, erroneously concluding a new drug is effective when it isn't.\n",
    "\n",
    "<img src=\"t1.png\">\n",
    "\n",
    "Type I Error Illustration: Here, both the control and experimental groups have the same mean (100), representing the scenario where the null hypothesis is true (there is no actual difference between the groups). The dashed lines show the means of each group. The p-value indicates the probability of observing the data assuming the null hypothesis is true. A small p-value (typically less than 0.05) would lead to incorrectly rejecting a true null hypothesis, which is a Type I error. In this specific run, whether a Type I error occurs depends on the randomly generated data and the chosen alpha level.\n",
    "\n",
    "### Type II Error (False Negative)\n",
    "\n",
    "- **Symbol:** $\\beta$ (beta)\n",
    "- **Description:** Failing to reject a false $H_0$, missing a real effect.\n",
    "- **Power of a Test:** (1 - $\\beta$), representing the test's ability to correctly reject a false $H_0$.\n",
    "- **Example:** Missing the effectiveness of a new drug due to inadequate trial results.\n",
    "\n",
    "<img src=\"t2.png\">\n",
    "\n",
    "Type II Error Illustration: For this plot, the mean of the experimental group is shifted to 110, while the control group remains the same. This setup simulates a scenario where the null hypothesis is false (there is a real difference). If the statistical test fails to detect this difference (i.e., we do not reject the null hypothesis when we should), it results in a Type II error. Again, the occurrence of a Type II error depends on the data and the sensitivity of the test (which can be influenced by sample size, effect size, and chosen alpha level).\n",
    "\n",
    "### Balancing Type I and Type II Errors\n",
    "\n",
    "- **Trade-Off:** Decreasing $\\alpha$ (Type I errors) typically increases $\\beta$ (Type II errors), and vice versa.\n",
    "- **Power:** High power means less Type II errors, but can increase Type I errors.\n",
    "- **Context-Specific Balance:** The optimal balance varies depending on the scenario and the consequences of each error type.\n",
    "\n",
    "In mathematical terms, these relationships can be represented as:\n",
    "\n",
    "- Probability of Type I Error: $P(\\text{Type I Error}) = \\alpha$\n",
    "- Probability of Type II Error: $P(\\text{Type II Error}) = \\beta$\n",
    "- Power of the test: $\\text{Power} = 1 - \\beta$\n",
    "\n",
    "These relationships highlight the inverse nature of the two errors and the importance of considering both when designing and interpreting hypothesis tests.\n"
   ]
  }
 ],
 "metadata": {
  "kernelspec": {
   "display_name": "Python 3 (ipykernel)",
   "language": "python",
   "name": "python3"
  },
  "language_info": {
   "codemirror_mode": {
    "name": "ipython",
    "version": 3
   },
   "file_extension": ".py",
   "mimetype": "text/x-python",
   "name": "python",
   "nbconvert_exporter": "python",
   "pygments_lexer": "ipython3",
   "version": "3.12.2"
  }
 },
 "nbformat": 4,
 "nbformat_minor": 5
}
