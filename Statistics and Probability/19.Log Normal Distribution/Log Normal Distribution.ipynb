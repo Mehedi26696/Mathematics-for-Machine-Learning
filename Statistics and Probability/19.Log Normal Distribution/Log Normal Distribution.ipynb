{
 "cells": [
  {
   "cell_type": "markdown",
   "id": "2ccca8e4-0998-4ab3-821e-3be438f27a13",
   "metadata": {},
   "source": [
    "## Log-Normal Distribution (Continuous)\n",
    "\n",
    "A continuous random variable X follows a log-normal distribution if its natural logarithm is normally distributed. The log-normal distribution is useful in modeling continuous random variables that are constrained to be positive. It is denoted as $X \\sim \\text{LogNormal}(\\mu, \\sigma^2)$, where $\\mu$ and $\\sigma^2$ are the mean and variance of the variable's natural logarithm.\n",
    "\n",
    "### Probability Density Function (PDF)\n",
    "\n",
    "The PDF of a log-normal distribution is given by:\n",
    "\n",
    "$$f(x; \\mu, \\sigma) = \\frac{1}{x \\sigma \\sqrt{2 \\pi}} \\exp\\left( -\\frac{(\\ln x - \\mu)^2}{2 \\sigma^2} \\right)$$\n",
    "\n",
    "for $x > 0$, $\\mu \\in \\mathbb{R}$, and $\\sigma > 0$.\n",
    "\n",
    "<img src=\"l1.png\">\n",
    "\n",
    "### Cumulative Distribution Function (CDF)\n",
    "\n",
    "The CDF of a log-normal distribution, $F(x; \\mu, \\sigma)$, is the normal cumulative distribution function of $\\ln(x)$:\n",
    "\n",
    "$$F(x; \\mu, \\sigma) = \\frac{1}{2} + \\frac{1}{2} \\text{erf}\\left( \\frac{\\ln(x) - \\mu}{\\sigma \\sqrt{2}} \\right)$$\n",
    "\n",
    "<img src=\"l2.png\">\n",
    "\n",
    "### Expected Value and Variance\n",
    "\n",
    "The expected value (mean) of a log-normal distribution is:\n",
    "\n",
    "$$E[X] = \\exp\\left( \\mu + \\frac{\\sigma^2}{2} \\right)$$\n",
    "\n",
    "The variance of a log-normal distribution is:\n",
    "\n",
    "$$\\text{Var}(X) = \\left[ \\exp(\\sigma^2) - 1 \\right] \\exp(2\\mu + \\sigma^2)$$\n",
    "\n",
    "### Example: Stock Prices\n",
    "\n",
    "Suppose the logarithm of the daily closing prices of a stock is normally distributed with $\\mu = 0$ and $\\sigma = 0.1$. \n",
    "\n",
    "I. What is the expected price of the stock?\n",
    "\n",
    "Expected price of the stock:\n",
    "\n",
    "$$E[X] = \\exp\\left( 0 + \\frac{0.1^2}{2} \\right) \\approx 1.005$$\n",
    "\n",
    "II. What is the variance of the stock price?\n",
    "\n",
    "Variance of the stock price:\n",
    "\n",
    "$$\\text{Var}(X) = \\left[ \\exp(0.1^2) - 1 \\right] \\exp(2 \\times 0 + 0.1^2) \\approx 0.0101$$\n",
    "\n",
    "### Applications\n",
    "\n",
    "The log-normal distribution is widely used in finance for modeling stock prices, in environmental science for modeling concentrations of pollutants, and in survival analysis. It is also applied in economics for income distribution and in reliability engineering for representing lifetimes of systems.\n"
   ]
  }
 ],
 "metadata": {
  "kernelspec": {
   "display_name": "Python 3 (ipykernel)",
   "language": "python",
   "name": "python3"
  },
  "language_info": {
   "codemirror_mode": {
    "name": "ipython",
    "version": 3
   },
   "file_extension": ".py",
   "mimetype": "text/x-python",
   "name": "python",
   "nbconvert_exporter": "python",
   "pygments_lexer": "ipython3",
   "version": "3.12.2"
  }
 },
 "nbformat": 4,
 "nbformat_minor": 5
}
